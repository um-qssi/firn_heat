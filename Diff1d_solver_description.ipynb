{
 "cells": [
  {
   "cell_type": "markdown",
   "metadata": {},
   "source": [
    "# Crank Nicholson 1D diffusion solver with variable conductivity"
   ]
  },
  {
   "cell_type": "markdown",
   "metadata": {},
   "source": [
    "This doc is meant to provide a description of the Crank Nicholson finite difference routine I built with the intent of applying it to measured temperature data across our firn transect."
   ]
  },
  {
   "cell_type": "markdown",
   "metadata": {},
   "source": [
    "## Standard conduction equation"
   ]
  },
  {
   "cell_type": "markdown",
   "metadata": {},
   "source": [
    "$$ \\rho c_p \\frac {\\partial u}{\\partial t} = \\frac {\\partial}{\\partial x} \\left(K\\frac{\\partial u}{\\partial x}\\right) + Q $$ "
   ]
  },
  {
   "cell_type": "markdown",
   "metadata": {},
   "source": [
    "where $\\rho$ is firn density, $c_p$ is specific heat capacity (taken to be 2097 kg m-3), $K$ is spatially varying thermal conductivity, and $Q$ is an internal heat source with units of (W m-3).\n",
    "\n",
    "## Numerical discretization\n",
    "### Spatially varying conductivity\n",
    "Variable thermal conductivity is accommodated by using the average value of the nodes within the outer first difference:\n",
    "$$ K_+ = 0.5\\left(K_{i+1} + K_{i} \\right)$$\n",
    "$$ K_- = 0.5\\left(K_{i} + K_{i-1} \\right)$$\n",
    "\n",
    "The Crank Nicholson formulation of the standard conduction equation then becomes:\n",
    "$$ \\frac{\\rho c_p}{\\Delta t} \\left( u_i^{n+1} - u_i^{n} \\right) = \\frac{\\theta}{{\\Delta x}^2} \\left(K_+\\left(u_{i+1}^n - u_i^n \\right) - K_-\\left(u_i^n-u_{i-1}^n\\right) \\right) + \\frac{\\left(1-\\theta\\right)}{{\\Delta x}^2} \\left(K_+\\left(u_{i+1}^{n+1} - u_i^{n+1} \\right) - K_-\\left(u_i^{n+1}-u_{i-1}^{n+1}\\right) \\right) + Q$$\n",
    "\n",
    "where $\\theta=0.5$ for Crank Nicholson ($\\theta=1$ for Forward Euler and $\\theta=0$ for Backward Euler).\n",
    "\n",
    "### Matrix representation\n",
    "Letting $a=\\frac{\\Delta t}{\\rho c_p}$,  \n",
    "$$B u^{n+1} = A u^{n} +aQ$$\n",
    "\n",
    "with:\n",
    "$$ B= \n",
    "    \\begin{bmatrix}\n",
    "    1+\\frac{a}{{\\Delta x}^2}\\left(K_+ + K_-\\right) & -\\frac{a}{{\\Delta x}^2}K_+ & 0  & 0     \\\\\n",
    "    -\\frac{a}{{\\Delta x}^2}K_- & 1+\\frac{a}{{\\Delta x}^2}\\left(K_+ + K_-\\right) & -\\frac{a}{{\\Delta x}^2}K_+ & 0 \\\\\n",
    "    0 & -\\frac{a}{{\\Delta x}^2}K_- & 1+\\frac{a}{{\\Delta x}^2}\\left(K_+ + K_-\\right) & -\\frac{a}{{\\Delta x}^2}K_+ \\\\\n",
    "    0 & 0 & -\\frac{a}{{\\Delta x}^2}K_- & 1+\\frac{a}{{\\Delta x}^2}\\left(K_+ + K_-\\right) \n",
    "    \\end{bmatrix}$$\n",
    "    \n",
    "and \n",
    "$$ A=\n",
    "    \\begin{bmatrix}\n",
    "    1-\\frac{a}{{\\Delta x}^2}\\left(K_+ + K_-\\right) & \\frac{a}{{\\Delta x}^2}K_+ & 0  & 0     \\\\\n",
    "    \\frac{a}{{\\Delta x}^2}K_- & 1-\\frac{a}{{\\Delta x}^2}\\left(K_+ + K_-\\right) & \\frac{a}{{\\Delta x}^2}K_+ & 0 \\\\\n",
    "    0 & \\frac{a}{{\\Delta x}^2}K_- & 1-\\frac{a}{{\\Delta x}^2}\\left(K_+ + K_-\\right) & \\frac{a}{{\\Delta x}^2}K_+ \\\\\n",
    "    0 & 0 & \\frac{a}{{\\Delta x}^2}K_- & 1-\\frac{a}{{\\Delta x}^2}\\left(K_+ + K_-\\right) \n",
    "    \\end{bmatrix}$$\n",
    "        \n",
    "### Solution\n",
    "$$ u^{n+1} = B^{-1} \\left[ A u^{n} +aQ \\right]$$\n",
    "\n",
    "## Implementation"
   ]
  },
  {
   "cell_type": "code",
   "execution_count": 2,
   "metadata": {},
   "outputs": [],
   "source": [
    "# Dependencies\n",
    "import numpy as np\n",
    "from scipy import sparse \n",
    "from scipy.sparse.linalg import spsolve\n",
    "import matplotlib.pyplot as plt\n",
    "\n",
    "class diff1D_CN():\n",
    "    def __init__(self, dt, x, ubc, lbc):\n",
    "        '''\n",
    "        A Backward Euler solver for the 1-D diffusion equation with optional variable (in space)\n",
    "        thermal conductivity.\n",
    "                \n",
    "        Inputs:\n",
    "            dt  = Model time step\n",
    "            x   = Model domain (solution nodes)\n",
    "            ubc = 'Dirichlet' or 'Neumann' upper boundary type\n",
    "            lbc = 'Dirichlet' or 'Neumann' lower boundary type\n",
    "        '''\n",
    "        # Model timing and spatial information\n",
    "        self.dt = dt            # Time step\n",
    "        self.dx = x[1]-x[0]     # Spatial step size\n",
    "        self.nx = len(x)        # Number of nodes\n",
    "        \n",
    "        # Boundary types (Dirichlet or Neumann)\n",
    "        self.ubc = ubc\n",
    "        self.lbc = lbc         \n",
    "        \n",
    "    def build_matrix(self, k, rho, theta=0.5, cp=2097.):\n",
    "        '''\n",
    "        Build solver matrix\n",
    "        theta = solver parameter (0.5 = Crank Nicholson, 0. = Backward Euler, 1.=Forward Euler)\n",
    "        '''\n",
    "        # Physical variables\n",
    "        # ---------------------------------------------------------------------\n",
    "        self.rho = rho\n",
    "        self.cp = cp\n",
    "        \n",
    "        # If thermal conductivity is a scalar, convert it to an array of len 'nx'\n",
    "        if isinstance(k, np.ndarray) == False:\n",
    "            k = k * np.ones(self.nx)\n",
    "        \n",
    "        # Build average thermal diffusivity arrays -- this effectively accounts for\n",
    "        # spatially varying thermal conductivity\n",
    "        self.k = k\n",
    "        k_mn = (k[0:-1]+k[1:])/2.\n",
    "        k_p = np.hstack((k_mn, k[-1]))\n",
    "        k_m = np.hstack((k[0], k_mn))\n",
    "        self.a = self.dt/(self.rho*self.cp)\n",
    "        \n",
    "        # Build 'A' matrix -- Forward Euler\n",
    "        # Diagonals\n",
    "        a1 = theta * self.a / (self.dx**2) * k_mn\n",
    "        a2 = theta * self.a / (self.dx**2) * (k_p+k_m)\n",
    "        a3 = theta * self.a / (self.dx**2) * k_mn\n",
    "        # Sparse matrix\n",
    "        self.A = sparse.lil_matrix((self.nx, self.nx))\n",
    "        self.A.setdiag(a1,k=1)\n",
    "        self.A.setdiag(1-a2)\n",
    "        self.A.setdiag(a3,k=-1)\n",
    "        \n",
    "        # Build 'B' matrix -- Backward Euler\n",
    "        # ---------------------------------------------------------------------\n",
    "        # Diagonals\n",
    "        b1 = (1-theta) * self.a / (self.dx**2) * k_mn\n",
    "        b2 = (1-theta) * self.a / (self.dx**2) * (k_p+k_m)\n",
    "        b3 = (1-theta) * self.a / (self.dx**2) * k_mn\n",
    "        # Sparse matrix\n",
    "        self.B = sparse.lil_matrix((self.nx, self.nx))\n",
    "        self.B.setdiag(-b1,k=1)\n",
    "        self.B.setdiag(1+b2)\n",
    "        self.B.setdiag(-b3,k=-1)\n",
    "        \n",
    "        # Set Boundary conditions\n",
    "        # ---------------------------------------------------------------------\n",
    "        #Upper (x=0)\n",
    "        if self.ubc == 'Dirichlet':\n",
    "            self.B[0,:] = np.zeros(self.nx)\n",
    "            self.B[0,0] = 1.\n",
    "            self.A[0,:] = np.zeros(self.nx)\n",
    "            self.A[0,0] = 1.\n",
    "        elif self.ubc == 'Neumann':\n",
    "            self.B[0,1]   = -(1-theta) * self.a / (self.dx**2) * (k_p[0]+k[0])          \n",
    "            self.A[0,1]   = theta * self.a / (self.dx**2) * (k_p[0]+k[0])\n",
    "        # Lower (x=n)\n",
    "        if self.lbc == 'Dirichlet':\n",
    "            self.B[-1,:]  = np.zeros(self.nx)\n",
    "            self.B[-1,-1] = 1.\n",
    "            self.A[-1,:]  = np.zeros(self.nx)\n",
    "            self.A[-1,-1] = 1.\n",
    "        elif self.lbc == 'Neumann':\n",
    "            self.B[-1,-2] = -(1-theta) * self.a / (self.dx**2) * (k_m[-1]+k[-1])     \n",
    "            self.A[-1,-2] = theta * self.a / (self.dx**2) * (k_m[-1]+k[-1])\n",
    "                        \n",
    "        #Convert final 'B' matrix to compressed row format\n",
    "        self.A = self.A.tocsr()\n",
    "        self.B = self.B.tocsr()       \n",
    "        \n",
    "        \n",
    "    def solve(self, u, Q, b_u=0, b_l=0):\n",
    "        '''\n",
    "        Solve for unew based on u and Q\n",
    "        \n",
    "        Inputs:\n",
    "            u -- solution array at time 'n'\n",
    "            Q -- Internal heat sources at time 'n' (W m-3)\n",
    "            b_u -- upper boundary value (only applies for Neumann condition)\n",
    "                    **Note this must be in units of W/m-2\n",
    "            b_l -- lower boundary value (only applies for Neumann condition)\n",
    "            \n",
    "        Outputs:\n",
    "            unew -- Solution 'u' at time n+1\n",
    "        '''\n",
    "        # Heat source\n",
    "        # If Heat source is a scalar, convert it to an array of len 'nx'\n",
    "        if isinstance(Q, np.ndarray) == False:\n",
    "            Q = Q * np.ones(self.nx)\n",
    "        gamma = Q*self.a # Heat source array 'gamma'\n",
    "        \n",
    "        # Adjust heat source gamma if Neumann boundary\n",
    "        if self.ubc == 'Neumann':\n",
    "            gamma[0] -= 2 * self.a / self.dx * b_u\n",
    "        if self.lbc == 'Neumann':\n",
    "            gamma[-1] -= 2 * self.a / self.dx * b_l \n",
    "        \n",
    "        # Solve    \n",
    "        u1 = np.asarray(np.dot(self.A.todense(),u))[0] + gamma\n",
    "        unew = spsolve(self.B, u1)\n",
    "            \n",
    "        return unew\n",
    "        "
   ]
  },
  {
   "cell_type": "markdown",
   "metadata": {},
   "source": [
    "## Testing"
   ]
  },
  {
   "cell_type": "markdown",
   "metadata": {},
   "source": [
    "### 1. Gaussian Pulse (scalar thermal conductivity)\n",
    "\n",
    "The diffusion equation yields the following analytical solution for a Gaussian pulse:\n",
    "\n",
    "$$u(x,t) = \\frac{1}{\\sqrt{4\\pi\\alpha t}} \\exp \\left( -\\frac{\\left(x-c\\right)^2}{4\\alpha t}\\right)$$\n",
    "\n",
    "At $t=0$ the solution yields a dirac delta, so I've replaced $t$ with $t=t+t_e$ to give the initial curve a finite width. As a test, using values similar for ice, compare the model with the analytical solution: "
   ]
  },
  {
   "cell_type": "code",
   "execution_count": 9,
   "metadata": {},
   "outputs": [],
   "source": [
    "#%% Set up timing, model domain, and physical variables\n",
    "# Physical variables\n",
    "k = 2.1      # Thermal conductivity (W m-1 K-1)  \n",
    "rho = 900.  # Density (kg m**-3)\n",
    "cp = 2097.  # Specific heat capacity of ice (J kg**-1 degC**-1)\n",
    "Q = 0.      # Internal heat sources (W m-3)\n",
    "\n",
    "# Spatial Domain\n",
    "x0 = 0.\n",
    "xf = 2.\n",
    "dx = 0.005\n",
    "x = np.arange(x0, xf+dx, dx)  # mesh points in space\n",
    "\n",
    "# Time ( in seconds )\n",
    "ndays = 0.25         # Number of days to run simulation\n",
    "dt_min = 0.25        # time step in minutes\n",
    "t0 = 0.\n",
    "tf = ndays * 24.* 60.**2\n",
    "dt = dt_min * 60.\n",
    "t = np.arange(t0, tf+dt, dt)\n",
    "\n",
    "#Model boundaries\n",
    "ubc = 'Dirichlet'\n",
    "lbc = 'Dirichlet'\n",
    "u_ubc = 0.*np.ones(len(t))\n",
    "u_lbc = 0.*np.ones(len(t))\n",
    "Cu = 0. # Upper boundary heat flux for Neumann bc (if specified)\n",
    "Cl = 0. # Lower boundary heat flux for Neumann bc (if specified)\n",
    "\n",
    "# Analytical solution\n",
    "def u_an(c, t, x, k, rho, cp):\n",
    "    alpha = k/(rho*cp)\n",
    "    u_t = 1./(4.*np.pi*alpha*t)**0.5 * np.exp(-1.*((x-c)**2)/(4.*alpha*t))\n",
    "    return u_t\n",
    "\n",
    "# Initial condition\n",
    "te = 20.\n",
    "u0 = u_an(1., t[0]+te, x, k, rho, cp)\n",
    "\n",
    "# Calculate mesh Fourier number\n",
    "F = k*dt/(rho*cp*dx**2)\n",
    "\n",
    "#%% Instantiate diffusion solver\n",
    "diff_cn = diff1D_CN(dt, x, ubc, lbc)\n",
    "diff_cn.build_matrix(k, rho)\n",
    "\n",
    "#%% Solve at each time\n",
    "uCN_sol = [np.copy(u0)]\n",
    "u_an_sol = [np.copy(u0)]\n",
    "# Set initial condition\n",
    "u_cn = np.copy(u0)\n",
    "# solver loop\n",
    "for i in range(1,len(t)):\n",
    "    # Model\n",
    "    unew_cn = diff_cn.solve(u_cn, 0., Cu, Cl)\n",
    "    uCN_sol.append(unew_cn)\n",
    "    u_cn = unew_cn    #update solution vector\n",
    "    u_cn[0] = u_ubc[i]\n",
    "    u_cn[-1] = u_lbc[i]\n",
    "    \n",
    "    # Analytical solution\n",
    "    u_a = u_an(1., t[i]+te, x, k, rho, cp)\n",
    "    u_an_sol.append(u_a)\n",
    "\n",
    "an_sol = np.asarray(u_an_sol)\n",
    "mod_sol = np.asarray(uCN_sol)"
   ]
  },
  {
   "cell_type": "markdown",
   "metadata": {},
   "source": [
    "Results show good agreement for Fourier mesh numbers (~0.6) exceeding stability range for Forward Euler."
   ]
  },
  {
   "cell_type": "code",
   "execution_count": 10,
   "metadata": {},
   "outputs": [
    {
     "data": {
      "text/plain": [
       "Text(0.5,1,'Maximum error v time')"
      ]
     },
     "execution_count": 10,
     "metadata": {},
     "output_type": "execute_result"
    },
    {
     "data": {
      "image/png": "[encoded data removed]",
      "text/plain": [
       "<Figure size 432x288 with 2 Axes>"
      ]
     },
     "metadata": {
      "needs_background": "light"
     },
     "output_type": "display_data"
    },
    {
     "data": {
      "image/png": "[encoded data removed]",
      "text/plain": [
       "<Figure size 432x288 with 1 Axes>"
      ]
     },
     "metadata": {
      "needs_background": "light"
     },
     "output_type": "display_data"
    }
   ],
   "source": [
    "#%% Plot\n",
    "fig1 = plt.figure(1)\n",
    "ax1 = fig1.add_subplot(121)\n",
    "ax1.plot(x, u_an_sol[0], 'k-', label='analytic')\n",
    "ax1.plot(x[::5],mod_sol[0,::5], 'ro', label='simulated')\n",
    "ax1.legend()\n",
    "ax1.set_title('Initial condition')\n",
    "\n",
    "ax1a = fig1.add_subplot(122)\n",
    "ax1a.plot(x, u_an_sol[-1], 'k-')\n",
    "ax1a.plot(x[::5],mod_sol[-1,::5], 'ro')\n",
    "ax1a.set_title('Results after 6 hours')\n",
    "ax1a.set_xlabel('x')\n",
    "ax1a.set_ylabel('u')\n",
    "\n",
    "# maximum model/measure difference over time \n",
    "max_diff = np.max(abs(an_sol-mod_sol), axis=1)\n",
    "fig2 = plt.figure(2)\n",
    "ax2 = fig2.add_subplot(111)\n",
    "ax2.plot(max_diff)\n",
    "ax2.set_xlabel('time step')\n",
    "ax2.set_ylabel(r'$max(|u_{sim}-u_{analytic}|)$')\n",
    "ax2.set_title('Maximum error v time')"
   ]
  },
  {
   "cell_type": "markdown",
   "metadata": {},
   "source": [
    "### 2. Spatially variable conductivity\n",
    "\n",
    "In the absence of internal heat sources, the conduction equation approaches a stationary limit as $t \\to \\infty$:\n",
    "\n",
    "$$\\frac {\\partial}{\\partial x} \\left(K\\frac{\\partial T}{\\partial x}\\right) = 0 $$ \n",
    "\n",
    "With boundary conditions $T(0)=T_0 $ and $T(L)=T_L$, the exact solution to the above is:\n",
    "\n",
    "$$ T(x)=T_0 + (T_L-T_0)\\frac{\\int\\limits_0^x (K(\\epsilon))^{-1}d\\epsilon}{\\int\\limits_0^L (K(\\epsilon))^{-1}d\\epsilon} $$\n",
    "\n",
    "As a test of the model formulation's treatment of spatially variable conductivity, let $K(x)=0.3x+0.1$. Then:\n",
    "    $$ \\int (K(\\epsilon))^{-1}d\\epsilon = \\frac{1}{0.3}\\ln \\left( \\frac{0.3\\epsilon+0.1}{0.1} \\right) $$\n",
    "\n",
    "With this in hand, test to see if the modeled temperature approaches the exact solution from an initial condition:"
   ]
  },
  {
   "cell_type": "code",
   "execution_count": 8,
   "metadata": {},
   "outputs": [
    {
     "data": {
      "text/plain": [
       "Text(0,0.5,'u')"
      ]
     },
     "execution_count": 8,
     "metadata": {},
     "output_type": "execute_result"
    },
    {
     "data": {
      "image/png": "[encoded data removed]",
      "text/plain": [
       "<Figure size 432x288 with 1 Axes>"
      ]
     },
     "metadata": {
      "needs_background": "light"
     },
     "output_type": "display_data"
    }
   ],
   "source": [
    "#%% Model timing, spatial dimension, and conductivity\n",
    "# Time\n",
    "dt = 14400. # Time step in seconds\n",
    "wks = 50*52.\n",
    "t_f = wks*7.*24.*60.**2\n",
    "t = np.arange(0., t_f, dt) \n",
    "# Space\n",
    "dx = 0.5\n",
    "x = np.arange(0., 10.+dx, dx)\n",
    "# Model physical parameters (density and thermal conductivity)\n",
    "rho=900.\n",
    "# Make thermal conductivity a linear function of x (values similar to firn)\n",
    "k = 0.3*x+0.1\n",
    "\n",
    "#%% Model boundaries\n",
    "ubc = 'Dirichlet'\n",
    "lbc = 'Dirichlet'\n",
    "ubc_U = 0.\n",
    "lbc_U = 15.\n",
    "\n",
    "#%% Instantiate diffusion solver\n",
    "diff_cn = diff1D_CN(dt, x, ubc, lbc)\n",
    "diff_cn.build_matrix(k, rho)\n",
    "\n",
    "\n",
    "#%% Solve at each time\n",
    "u_sol = [] \n",
    "# Set initial condition\n",
    "u0 = np.linspace(ubc_U, lbc_U, len(x))\n",
    "u = u0\n",
    "# solver loop\n",
    "for i in range(len(t)):\n",
    "    unew = diff_cn.solve(u, 0.)\n",
    "    u_sol.append(unew)\n",
    "    u = unew    #update solution vector\n",
    "    u[0] = ubc_U\n",
    "    u[-1] = lbc_U\n",
    "    \n",
    "\n",
    "#%% Analytical solution \n",
    "f_an = lambda x: (900.*2097./0.3 * np.log((0.3*x+0.1)/0.1))\n",
    "x_sol = np.linspace(0., x[-1], 5000)\n",
    "u_an = ubc_U+(lbc_U-ubc_U)*f_an(x_sol)/f_an(x_sol[-1])\n",
    "\n",
    "\n",
    "#%% Plot\n",
    "fig1 = plt.figure(1)\n",
    "ax1 = fig1.add_subplot(111)\n",
    "ax1.set_ylim(-0.1, 15.2)\n",
    "ax1.set_xlim(0., 10.)\n",
    "ax1.plot(x_sol, u_an, 'k-', lw=3, label='Exact solution')\n",
    "ax1.plot(x, u0,'m.-', label='t=0')\n",
    "ax1.plot(x, u_sol[1000], 'b.--', label='t='+str(int(t[1000])))\n",
    "ax1.plot(x, u_sol[5000], 'g.--', label='t='+str(int(t[5000])))\n",
    "ax1.plot(x, u_sol[10000], 'c.--', label='t='+str(int(t[10000])))\n",
    "ax1.plot(x, u_sol[-1], 'r.--', label='t='+str(int(t[-1])))\n",
    "ax1.legend()\n",
    "ax1.set_xlabel('x')\n",
    "ax1.set_ylabel('u')\n"
   ]
  },
  {
   "cell_type": "markdown",
   "metadata": {
    "collapsed": true
   },
   "source": [
    "Model approaches the exact solution, increasing confidence in the model implementation"
   ]
  }
 ],
 "metadata": {
  "kernelspec": {
   "display_name": "Python 3",
   "language": "python",
   "name": "python3"
  },
  "language_info": {
   "codemirror_mode": {
    "name": "ipython",
    "version": 3
   },
   "file_extension": ".py",
   "mimetype": "text/x-python",
   "name": "python",
   "nbconvert_exporter": "python",
   "pygments_lexer": "ipython3",
   "version": "3.6.7"
  }
 },
 "nbformat": 4,
 "nbformat_minor": 2
}
